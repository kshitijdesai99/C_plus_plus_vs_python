{
 "cells": [
  {
   "cell_type": "markdown",
   "id": "c0cd4eb6-c9a6-4450-88c1-ed4ae711eb70",
   "metadata": {},
   "source": [
    "# Time measuring decorator"
   ]
  },
  {
   "cell_type": "code",
   "execution_count": 1,
   "id": "f26738ea-68d6-47f9-8a4d-41459d41686a",
   "metadata": {},
   "outputs": [],
   "source": [
    "import time\n",
    "import functools\n",
    "import numpy as np\n",
    "from typing import Callable, Any\n",
    "\n",
    "def measure_time(unit: str = 'ms') -> Callable:\n",
    "    \"\"\"\n",
    "    A decorator that measures the execution time of a function.\n",
    "    \n",
    "    Args:\n",
    "        unit (str): Time unit for measurement ('ms' for milliseconds, 's' for seconds)\n",
    "    \n",
    "    Returns:\n",
    "        Callable: Decorated function that prints execution time\n",
    "    \"\"\"\n",
    "    def decorator(func: Callable) -> Callable:\n",
    "        @functools.wraps(func)\n",
    "        def wrapper(*args, **kwargs) -> Any:\n",
    "            start_time = time.perf_counter()\n",
    "            result = func(*args, **kwargs)\n",
    "            end_time = time.perf_counter()\n",
    "            \n",
    "            elapsed_time = end_time - start_time\n",
    "            if unit == 'ms':\n",
    "                elapsed_time *= 1000  # Convert to milliseconds\n",
    "            \n",
    "            print(f\"{func.__name__} execution time: {elapsed_time:.4f} {unit}\")\n",
    "            return result\n",
    "        return wrapper\n",
    "    return decorator"
   ]
  },
  {
   "cell_type": "markdown",
   "id": "8a5e37df-eb64-49ab-a8aa-d6185e9202e4",
   "metadata": {},
   "source": [
    "# Measure time taken to calculate sum of list in python and numpy"
   ]
  },
  {
   "cell_type": "code",
   "execution_count": 2,
   "id": "25462bc6-2959-44e9-b89e-ecc4eb691fbb",
   "metadata": {},
   "outputs": [],
   "source": [
    "from functools import wraps\n",
    "import time\n",
    "\n",
    "def timeit(func):\n",
    "    @wraps(func)\n",
    "    def timeit_wrapper(*args, **kwargs):\n",
    "        start_time = time.perf_counter()\n",
    "        result = func(*args, **kwargs)\n",
    "        end_time = time.perf_counter()\n",
    "        total_time = end_time - start_time\n",
    "        total_time*=1000\n",
    "        print(f'Function {func.__name__}{args} {kwargs} Took {total_time:.4f} ms')\n",
    "        return result\n",
    "    return timeit_wrapper"
   ]
  },
  {
   "cell_type": "code",
   "execution_count": 4,
   "id": "4a1f5992-9d3c-43cf-a020-3a8ae32f0a56",
   "metadata": {},
   "outputs": [
    {
     "name": "stdout",
     "output_type": "stream",
     "text": [
      "Function calculate_sum_python(10000000,) {} Took 149.8526 ms\n",
      "Python sum: 49999995000000\n",
      "\n",
      "Function calculate_sum_numpy(10000000,) {} Took 70.0311 ms\n",
      "NumPy sum: 49999995000000\n"
     ]
    }
   ],
   "source": [
    "@timeit\n",
    "def calculate_sum_python(size: int) -> int:\n",
    "    return sum(range(size))\n",
    "\n",
    "@timeit\n",
    "def calculate_sum_numpy(size: int) -> int:\n",
    "    return np.sum(np.arange(size))\n",
    "\n",
    "# Test both implementations\n",
    "if __name__ == \"__main__\":\n",
    "    SIZE = 10_000_000\n",
    "    \n",
    "    # Test Python implementation\n",
    "    result_python = calculate_sum_python(SIZE)\n",
    "    print(f\"Python sum: {result_python}\\n\")\n",
    "    \n",
    "    # Test NumPy implementation\n",
    "    result_numpy = calculate_sum_numpy(SIZE)\n",
    "    print(f\"NumPy sum: {result_numpy}\")"
   ]
  },
  {
   "cell_type": "markdown",
   "id": "0bf9e2e9-17de-490a-8bda-4c4b25204e7f",
   "metadata": {},
   "source": [
    "# Measure time taken for element wise multiplication in python and numpy"
   ]
  },
  {
   "cell_type": "code",
   "execution_count": null,
   "id": "c527f748-2343-458b-9a3d-e8b2d2f7659e",
   "metadata": {},
   "outputs": [],
   "source": []
  }
 ],
 "metadata": {
  "kernelspec": {
   "display_name": "Python 3 (ipykernel)",
   "language": "python",
   "name": "python3"
  },
  "language_info": {
   "codemirror_mode": {
    "name": "ipython",
    "version": 3
   },
   "file_extension": ".py",
   "mimetype": "text/x-python",
   "name": "python",
   "nbconvert_exporter": "python",
   "pygments_lexer": "ipython3",
   "version": "3.12.2"
  }
 },
 "nbformat": 4,
 "nbformat_minor": 5
}
